{
 "cells": [
  {
   "cell_type": "code",
   "execution_count": 1,
   "id": "53f27061",
   "metadata": {},
   "outputs": [
    {
     "name": "stderr",
     "output_type": "stream",
     "text": [
      "/Users/xftian/Library/Python/3.8/lib/python/site-packages/statsmodels/tools/_testing.py:19: FutureWarning: pandas.util.testing is deprecated. Use the functions in the public API at pandas.testing instead.\n",
      "  import pandas.util.testing as tm\n"
     ]
    }
   ],
   "source": [
    "import numpy as np\n",
    "import pandas as pd\n",
    "import seaborn as sns\n",
    "import matplotlib.pyplot as plt\n",
    "import time\n",
    "import warnings\n",
    "\n",
    "from category_encoders import TargetEncoder\n",
    "from itertools import product\n",
    "\n",
    "warnings.filterwarnings('ignore')"
   ]
  },
  {
   "cell_type": "code",
   "execution_count": 2,
   "id": "fdc2000f",
   "metadata": {},
   "outputs": [],
   "source": [
    "items = pd.read_csv('competitive-data-science-predict-future-sales/items.csv')\n",
    "item_categories = pd.read_csv('competitive-data-science-predict-future-sales/item_categories.csv')\n",
    "shops = pd.read_csv('competitive-data-science-predict-future-sales/shops.csv')\n",
    "sales = pd.read_csv('competitive-data-science-predict-future-sales/sales_train.csv')\n",
    "test = pd.read_csv('competitive-data-science-predict-future-sales/test.csv')"
   ]
  },
  {
   "cell_type": "code",
   "execution_count": 3,
   "id": "85ee939b",
   "metadata": {},
   "outputs": [],
   "source": [
    "train = sales.merge(items, on=['item_id'], how='left').merge(item_categories, on=['item_category_id'], how='left').merge(shops, on=['shop_id'], how='left')"
   ]
  },
  {
   "cell_type": "code",
   "execution_count": 4,
   "id": "4a59b924",
   "metadata": {},
   "outputs": [],
   "source": [
    "test_shop_ids = test['shop_id'].unique()\n",
    "test_item_ids = test['item_id'].unique()\n",
    "\n",
    "train_ = train[(train['shop_id'].isin(test_shop_ids)) | (train['item_id'].isin(test_item_ids))]"
   ]
  },
  {
   "cell_type": "code",
   "execution_count": 16,
   "id": "62dd4018",
   "metadata": {},
   "outputs": [
    {
     "data": {
      "text/html": [
       "<div>\n",
       "<style scoped>\n",
       "    .dataframe tbody tr th:only-of-type {\n",
       "        vertical-align: middle;\n",
       "    }\n",
       "\n",
       "    .dataframe tbody tr th {\n",
       "        vertical-align: top;\n",
       "    }\n",
       "\n",
       "    .dataframe thead th {\n",
       "        text-align: right;\n",
       "    }\n",
       "</style>\n",
       "<table border=\"1\" class=\"dataframe\">\n",
       "  <thead>\n",
       "    <tr style=\"text-align: right;\">\n",
       "      <th></th>\n",
       "      <th>date</th>\n",
       "      <th>date_block_num</th>\n",
       "      <th>shop_id</th>\n",
       "      <th>item_id</th>\n",
       "      <th>item_price</th>\n",
       "      <th>item_cnt_day</th>\n",
       "      <th>item_name</th>\n",
       "      <th>item_category_id</th>\n",
       "      <th>item_category_name</th>\n",
       "      <th>shop_name</th>\n",
       "    </tr>\n",
       "  </thead>\n",
       "  <tbody>\n",
       "    <tr>\n",
       "      <th>0</th>\n",
       "      <td>02.01.2013</td>\n",
       "      <td>0</td>\n",
       "      <td>59</td>\n",
       "      <td>22154</td>\n",
       "      <td>999.00</td>\n",
       "      <td>1.0</td>\n",
       "      <td>ЯВЛЕНИЕ 2012 (BD)</td>\n",
       "      <td>37</td>\n",
       "      <td>Кино - Blu-Ray</td>\n",
       "      <td>Ярославль ТЦ \"Альтаир\"</td>\n",
       "    </tr>\n",
       "    <tr>\n",
       "      <th>1</th>\n",
       "      <td>03.01.2013</td>\n",
       "      <td>0</td>\n",
       "      <td>25</td>\n",
       "      <td>2552</td>\n",
       "      <td>899.00</td>\n",
       "      <td>1.0</td>\n",
       "      <td>DEEP PURPLE  The House Of Blue Light  LP</td>\n",
       "      <td>58</td>\n",
       "      <td>Музыка - Винил</td>\n",
       "      <td>Москва ТРК \"Атриум\"</td>\n",
       "    </tr>\n",
       "    <tr>\n",
       "      <th>2</th>\n",
       "      <td>05.01.2013</td>\n",
       "      <td>0</td>\n",
       "      <td>25</td>\n",
       "      <td>2552</td>\n",
       "      <td>899.00</td>\n",
       "      <td>-1.0</td>\n",
       "      <td>DEEP PURPLE  The House Of Blue Light  LP</td>\n",
       "      <td>58</td>\n",
       "      <td>Музыка - Винил</td>\n",
       "      <td>Москва ТРК \"Атриум\"</td>\n",
       "    </tr>\n",
       "    <tr>\n",
       "      <th>3</th>\n",
       "      <td>06.01.2013</td>\n",
       "      <td>0</td>\n",
       "      <td>25</td>\n",
       "      <td>2554</td>\n",
       "      <td>1709.05</td>\n",
       "      <td>1.0</td>\n",
       "      <td>DEEP PURPLE  Who Do You Think We Are  LP</td>\n",
       "      <td>58</td>\n",
       "      <td>Музыка - Винил</td>\n",
       "      <td>Москва ТРК \"Атриум\"</td>\n",
       "    </tr>\n",
       "    <tr>\n",
       "      <th>4</th>\n",
       "      <td>15.01.2013</td>\n",
       "      <td>0</td>\n",
       "      <td>25</td>\n",
       "      <td>2555</td>\n",
       "      <td>1099.00</td>\n",
       "      <td>1.0</td>\n",
       "      <td>DEEP PURPLE 30 Very Best Of 2CD (Фирм.)</td>\n",
       "      <td>56</td>\n",
       "      <td>Музыка - CD фирменного производства</td>\n",
       "      <td>Москва ТРК \"Атриум\"</td>\n",
       "    </tr>\n",
       "  </tbody>\n",
       "</table>\n",
       "</div>"
      ],
      "text/plain": [
       "         date  date_block_num  shop_id  item_id  item_price  item_cnt_day  \\\n",
       "0  02.01.2013               0       59    22154      999.00           1.0   \n",
       "1  03.01.2013               0       25     2552      899.00           1.0   \n",
       "2  05.01.2013               0       25     2552      899.00          -1.0   \n",
       "3  06.01.2013               0       25     2554     1709.05           1.0   \n",
       "4  15.01.2013               0       25     2555     1099.00           1.0   \n",
       "\n",
       "                                  item_name  item_category_id  \\\n",
       "0                         ЯВЛЕНИЕ 2012 (BD)                37   \n",
       "1  DEEP PURPLE  The House Of Blue Light  LP                58   \n",
       "2  DEEP PURPLE  The House Of Blue Light  LP                58   \n",
       "3  DEEP PURPLE  Who Do You Think We Are  LP                58   \n",
       "4   DEEP PURPLE 30 Very Best Of 2CD (Фирм.)                56   \n",
       "\n",
       "                    item_category_name               shop_name  \n",
       "0                       Кино - Blu-Ray  Ярославль ТЦ \"Альтаир\"  \n",
       "1                       Музыка - Винил     Москва ТРК \"Атриум\"  \n",
       "2                       Музыка - Винил     Москва ТРК \"Атриум\"  \n",
       "3                       Музыка - Винил     Москва ТРК \"Атриум\"  \n",
       "4  Музыка - CD фирменного производства     Москва ТРК \"Атриум\"  "
      ]
     },
     "execution_count": 16,
     "metadata": {},
     "output_type": "execute_result"
    }
   ],
   "source": [
    "train.head()"
   ]
  },
  {
   "cell_type": "code",
   "execution_count": 17,
   "id": "094a06c0",
   "metadata": {},
   "outputs": [],
   "source": [
    "grouped = train_.sort_values('date').groupby(['date_block_num', 'item_category_id', 'shop_id', 'item_id'], as_index=False)\n",
    "grouped = grouped.agg({'item_price': ['sum', 'mean'], 'item_cnt_day': ['sum', 'mean', 'count']})\n",
    "grouped.columns = ['date_block_num', 'item_category_id', 'shop_id', 'item_id', 'item_price', 'item_price_mean', 'item_cnt_month', 'item_cnt_mean', 'item_cnt_count']\n"
   ]
  },
  {
   "cell_type": "code",
   "execution_count": 28,
   "id": "d8069a8c",
   "metadata": {},
   "outputs": [],
   "source": [
    "empty_df = []\n",
    "for i in range(34):\n",
    "    for shop_id in test_shop_ids:\n",
    "        for item_id in test_item_ids:\n",
    "            empty_df.append([i, shop_id, item_id])\n",
    "empty_df = pd.DataFrame(empty_df, columns=['date_block_num', 'shop_id', 'item_id'])"
   ]
  },
  {
   "cell_type": "code",
   "execution_count": 42,
   "id": "56ce149f",
   "metadata": {},
   "outputs": [],
   "source": [
    "train_df = empty_df.merge(grouped, on=['date_block_num', 'shop_id', 'item_id'], how='left')"
   ]
  },
  {
   "cell_type": "code",
   "execution_count": 43,
   "id": "55ad2d5c",
   "metadata": {},
   "outputs": [],
   "source": [
    "train_df.fillna(0, inplace=True)\n",
    "train_df['year'] = train_df['date_block_num'].apply(lambda x: x // 12 + 2013)\n",
    "train_df['month'] = train_df['date_block_num'].apply(lambda x: x % 12)"
   ]
  },
  {
   "cell_type": "code",
   "execution_count": 44,
   "id": "d0aa0048",
   "metadata": {},
   "outputs": [],
   "source": [
    "group_cate_sum = train_df.groupby('item_category_id', as_index=False)['item_cnt_month'].sum().rename(columns={'item_cnt_month': 'group_cat_month'})\n",
    "group_cate_mean = train_df.groupby('item_category_id', as_index=False)['item_cnt_month'].mean().rename(columns={'item_cnt_month': 'group_mean_cat_month'})\n",
    "group_item_sum = train_df.groupby('item_id', as_index=False)['item_cnt_month'].sum().rename(columns={'item_cnt_month': 'group_item_month'})\n",
    "group_item_mean = train_df.groupby('item_id', as_index=False)['item_cnt_month'].mean().rename(columns={'item_cnt_month': 'group_mean_item_month'})\n",
    "group_shop_sum = train_df.groupby('shop_id', as_index=False)['item_cnt_month'].mean().rename(columns={'item_cnt_month': 'group_shop_month'})\n",
    "group_shop_mean = train_df.groupby('shop_id', as_index=False)['item_cnt_month'].mean().rename(columns={'item_cnt_month': 'group_mean_shop_month'})\n",
    "\n",
    "group_cate_price_mean = train_df.groupby('item_category_id', as_index=False)['item_price'].mean().rename(columns={'item_price': 'group_mean_cat_price'})\n",
    "group_item_price_mean = train_df.groupby('item_id', as_index=False)['item_price'].mean().rename(columns={'item_price': 'group_mean_item_price'})\n",
    "group_shop_price_mean = train_df.groupby('shop_id', as_index=False)['item_price'].mean().rename(columns={'item_price': 'group_mean_shop_price'})"
   ]
  },
  {
   "cell_type": "code",
   "execution_count": 45,
   "id": "7324b32e",
   "metadata": {},
   "outputs": [],
   "source": [
    "group_df = train_df.copy()\n",
    "group_df = group_df[['date_block_num', 'shop_id', 'item_id', 'item_category_id']]"
   ]
  },
  {
   "cell_type": "code",
   "execution_count": 46,
   "id": "196f33e3",
   "metadata": {},
   "outputs": [],
   "source": [
    "group_df = group_df.merge(group_cate_sum, on=['item_category_id'], how='left').merge(group_cate_mean, on=['item_category_id'], how='left')\n",
    "group_df = group_df.merge(group_item_sum, on=['item_id'], how='left').merge(group_item_mean, on=['item_id'], how='left')\n",
    "group_df = group_df.merge(group_shop_sum, on=['shop_id'], how='left').merge(group_shop_mean, on=['shop_id'], how='left')\n",
    "\n",
    "group_df = group_df.merge(group_cate_price_mean, on=['item_category_id'], how='left').merge(group_item_price_mean, on=['item_id'], how='left').merge(group_shop_price_mean, on=['shop_id'], how='left')"
   ]
  },
  {
   "cell_type": "code",
   "execution_count": 47,
   "id": "97d8a5a0",
   "metadata": {},
   "outputs": [],
   "source": [
    "train_df = train_df.merge(group_df, on=['date_block_num', 'shop_id', 'item_id', 'item_category_id'], how='left').reset_index(drop=True)"
   ]
  },
  {
   "cell_type": "code",
   "execution_count": 48,
   "id": "de47f280",
   "metadata": {},
   "outputs": [
    {
     "data": {
      "text/html": [
       "<div>\n",
       "<style scoped>\n",
       "    .dataframe tbody tr th:only-of-type {\n",
       "        vertical-align: middle;\n",
       "    }\n",
       "\n",
       "    .dataframe tbody tr th {\n",
       "        vertical-align: top;\n",
       "    }\n",
       "\n",
       "    .dataframe thead th {\n",
       "        text-align: right;\n",
       "    }\n",
       "</style>\n",
       "<table border=\"1\" class=\"dataframe\">\n",
       "  <thead>\n",
       "    <tr style=\"text-align: right;\">\n",
       "      <th></th>\n",
       "      <th>date_block_num</th>\n",
       "      <th>shop_id</th>\n",
       "      <th>item_id</th>\n",
       "      <th>item_category_id</th>\n",
       "      <th>item_price</th>\n",
       "      <th>item_price_mean</th>\n",
       "      <th>item_cnt_month</th>\n",
       "      <th>item_cnt_mean</th>\n",
       "      <th>item_cnt_count</th>\n",
       "      <th>year</th>\n",
       "      <th>month</th>\n",
       "      <th>group_cat_month</th>\n",
       "      <th>group_mean_cat_month</th>\n",
       "      <th>group_item_month</th>\n",
       "      <th>group_mean_item_month</th>\n",
       "      <th>group_shop_month</th>\n",
       "      <th>group_mean_shop_month</th>\n",
       "      <th>group_mean_cat_price</th>\n",
       "      <th>group_mean_item_price</th>\n",
       "      <th>group_mean_shop_price</th>\n",
       "    </tr>\n",
       "  </thead>\n",
       "  <tbody>\n",
       "    <tr>\n",
       "      <th>0</th>\n",
       "      <td>0</td>\n",
       "      <td>5</td>\n",
       "      <td>5037</td>\n",
       "      <td>0.0</td>\n",
       "      <td>0.0</td>\n",
       "      <td>0.0</td>\n",
       "      <td>0.0</td>\n",
       "      <td>0.0</td>\n",
       "      <td>0.0</td>\n",
       "      <td>2013</td>\n",
       "      <td>0</td>\n",
       "      <td>0.0</td>\n",
       "      <td>0.0</td>\n",
       "      <td>1137.0</td>\n",
       "      <td>0.796218</td>\n",
       "      <td>0.142099</td>\n",
       "      <td>0.142099</td>\n",
       "      <td>0.0</td>\n",
       "      <td>1287.197791</td>\n",
       "      <td>117.965097</td>\n",
       "    </tr>\n",
       "    <tr>\n",
       "      <th>1</th>\n",
       "      <td>0</td>\n",
       "      <td>5</td>\n",
       "      <td>5320</td>\n",
       "      <td>0.0</td>\n",
       "      <td>0.0</td>\n",
       "      <td>0.0</td>\n",
       "      <td>0.0</td>\n",
       "      <td>0.0</td>\n",
       "      <td>0.0</td>\n",
       "      <td>2013</td>\n",
       "      <td>0</td>\n",
       "      <td>0.0</td>\n",
       "      <td>0.0</td>\n",
       "      <td>0.0</td>\n",
       "      <td>0.000000</td>\n",
       "      <td>0.142099</td>\n",
       "      <td>0.142099</td>\n",
       "      <td>0.0</td>\n",
       "      <td>0.000000</td>\n",
       "      <td>117.965097</td>\n",
       "    </tr>\n",
       "    <tr>\n",
       "      <th>2</th>\n",
       "      <td>0</td>\n",
       "      <td>5</td>\n",
       "      <td>5233</td>\n",
       "      <td>0.0</td>\n",
       "      <td>0.0</td>\n",
       "      <td>0.0</td>\n",
       "      <td>0.0</td>\n",
       "      <td>0.0</td>\n",
       "      <td>0.0</td>\n",
       "      <td>2013</td>\n",
       "      <td>0</td>\n",
       "      <td>0.0</td>\n",
       "      <td>0.0</td>\n",
       "      <td>488.0</td>\n",
       "      <td>0.341737</td>\n",
       "      <td>0.142099</td>\n",
       "      <td>0.142099</td>\n",
       "      <td>0.0</td>\n",
       "      <td>244.425718</td>\n",
       "      <td>117.965097</td>\n",
       "    </tr>\n",
       "    <tr>\n",
       "      <th>3</th>\n",
       "      <td>0</td>\n",
       "      <td>5</td>\n",
       "      <td>5232</td>\n",
       "      <td>0.0</td>\n",
       "      <td>0.0</td>\n",
       "      <td>0.0</td>\n",
       "      <td>0.0</td>\n",
       "      <td>0.0</td>\n",
       "      <td>0.0</td>\n",
       "      <td>2013</td>\n",
       "      <td>0</td>\n",
       "      <td>0.0</td>\n",
       "      <td>0.0</td>\n",
       "      <td>140.0</td>\n",
       "      <td>0.098039</td>\n",
       "      <td>0.142099</td>\n",
       "      <td>0.142099</td>\n",
       "      <td>0.0</td>\n",
       "      <td>71.356856</td>\n",
       "      <td>117.965097</td>\n",
       "    </tr>\n",
       "    <tr>\n",
       "      <th>4</th>\n",
       "      <td>0</td>\n",
       "      <td>5</td>\n",
       "      <td>5268</td>\n",
       "      <td>0.0</td>\n",
       "      <td>0.0</td>\n",
       "      <td>0.0</td>\n",
       "      <td>0.0</td>\n",
       "      <td>0.0</td>\n",
       "      <td>0.0</td>\n",
       "      <td>2013</td>\n",
       "      <td>0</td>\n",
       "      <td>0.0</td>\n",
       "      <td>0.0</td>\n",
       "      <td>0.0</td>\n",
       "      <td>0.000000</td>\n",
       "      <td>0.142099</td>\n",
       "      <td>0.142099</td>\n",
       "      <td>0.0</td>\n",
       "      <td>0.000000</td>\n",
       "      <td>117.965097</td>\n",
       "    </tr>\n",
       "  </tbody>\n",
       "</table>\n",
       "</div>"
      ],
      "text/plain": [
       "   date_block_num  shop_id  item_id  item_category_id  item_price  \\\n",
       "0               0        5     5037               0.0         0.0   \n",
       "1               0        5     5320               0.0         0.0   \n",
       "2               0        5     5233               0.0         0.0   \n",
       "3               0        5     5232               0.0         0.0   \n",
       "4               0        5     5268               0.0         0.0   \n",
       "\n",
       "   item_price_mean  item_cnt_month  item_cnt_mean  item_cnt_count  year  \\\n",
       "0              0.0             0.0            0.0             0.0  2013   \n",
       "1              0.0             0.0            0.0             0.0  2013   \n",
       "2              0.0             0.0            0.0             0.0  2013   \n",
       "3              0.0             0.0            0.0             0.0  2013   \n",
       "4              0.0             0.0            0.0             0.0  2013   \n",
       "\n",
       "   month  group_cat_month  group_mean_cat_month  group_item_month  \\\n",
       "0      0              0.0                   0.0            1137.0   \n",
       "1      0              0.0                   0.0               0.0   \n",
       "2      0              0.0                   0.0             488.0   \n",
       "3      0              0.0                   0.0             140.0   \n",
       "4      0              0.0                   0.0               0.0   \n",
       "\n",
       "   group_mean_item_month  group_shop_month  group_mean_shop_month  \\\n",
       "0               0.796218          0.142099               0.142099   \n",
       "1               0.000000          0.142099               0.142099   \n",
       "2               0.341737          0.142099               0.142099   \n",
       "3               0.098039          0.142099               0.142099   \n",
       "4               0.000000          0.142099               0.142099   \n",
       "\n",
       "   group_mean_cat_price  group_mean_item_price  group_mean_shop_price  \n",
       "0                   0.0            1287.197791             117.965097  \n",
       "1                   0.0               0.000000             117.965097  \n",
       "2                   0.0             244.425718             117.965097  \n",
       "3                   0.0              71.356856             117.965097  \n",
       "4                   0.0               0.000000             117.965097  "
      ]
     },
     "execution_count": 48,
     "metadata": {},
     "output_type": "execute_result"
    }
   ],
   "source": [
    "train_df.head()"
   ]
  },
  {
   "cell_type": "code",
   "execution_count": 49,
   "id": "8816c436",
   "metadata": {},
   "outputs": [],
   "source": [
    "train_df = train_df[(train_df['item_cnt_month'] >= 0) & (train_df['item_cnt_month'] <= 20) & (train_df['item_price'] <= 50000)]\n",
    "train_df.rename(columns={'item_cnt_month': 'item_cnt'}, inplace=True)"
   ]
  },
  {
   "cell_type": "code",
   "execution_count": 50,
   "id": "67dfd9bc",
   "metadata": {},
   "outputs": [],
   "source": [
    "# 整体向后移动一个单位\n",
    "train_df['item_cnt_month'] = train_df.sort_values('date_block_num').groupby(['shop_id', 'item_id'])['item_cnt'].shift(-1)"
   ]
  },
  {
   "cell_type": "code",
   "execution_count": 53,
   "id": "9f923332",
   "metadata": {},
   "outputs": [],
   "source": [
    "gp_price = train_df.sort_values('date_block_num').groupby('item_id', as_index=False)\n",
    "gp_price = gp_price.agg({'item_price': [np.max, np.min]})\n",
    "gp_price.columns = ['item_id', 'hist_max_price', 'hist_min_price']\n",
    "\n",
    "train_df = train_df.merge(gp_price, on=['item_id'], how='left')\n",
    "train_df['price_inc'] = train_df['item_price'] - train_df['hist_min_price']\n",
    "train_df['price_dec'] = train_df['hist_max_price'] - train_df['item_price']"
   ]
  },
  {
   "cell_type": "code",
   "execution_count": 56,
   "id": "a8234f9b",
   "metadata": {},
   "outputs": [],
   "source": [
    "f_min = lambda x: x.rolling(window=3, min_periods=1).min()\n",
    "f_max = lambda x: x.rolling(window=3, min_periods=1).max()\n",
    "f_mean = lambda x: x.rolling(window=3, min_periods=1).mean()\n",
    "f_std = lambda x: x.rolling(window=3, min_periods=1).std()\n",
    "\n",
    "function_list = [f_min, f_max, f_mean, f_std]\n",
    "function_name = ['min', 'max', 'mean', 'std']\n",
    "\n",
    "for i in range(len(function_list)):\n",
    "    train_df['item_cnt_%s' % function_name[i]] = train_df.sort_values('date_block_num').groupby(['shop_id', 'item_category_id', 'item_id'])['item_cnt'].apply(function_list[i])"
   ]
  },
  {
   "cell_type": "code",
   "execution_count": 57,
   "id": "56525e8d",
   "metadata": {},
   "outputs": [],
   "source": [
    "train_set = train_df.query('date_block_num >= 3 and date_block_num < 28').copy()\n",
    "validation_set = train_df.query('date_block_num >= 28 and date_block_num < 33').copy()\n",
    "test_set = train_df.query('date_block_num == 33').copy()\n",
    "\n",
    "train_set.dropna(subset=['item_cnt_month'], inplace=True)\n",
    "validation_set.dropna(subset=['item_cnt_month'], inplace=True)\n",
    "\n",
    "train_set.dropna(inplace=True)\n",
    "validation_set.dropna(inplace=True)"
   ]
  },
  {
   "cell_type": "code",
   "execution_count": 58,
   "id": "a36d37a8",
   "metadata": {},
   "outputs": [],
   "source": [
    "X_train = train_set.drop(['item_cnt_month', 'date_block_num'], axis=1)\n",
    "Y_train = train_set['item_cnt_month'].astype(int)\n",
    "X_validation = validation_set.drop(['item_cnt_month', 'date_block_num'], axis=1)\n",
    "Y_validation = validation_set['item_cnt_month'].astype(int)"
   ]
  },
  {
   "cell_type": "code",
   "execution_count": 59,
   "id": "bbebe414",
   "metadata": {},
   "outputs": [],
   "source": [
    "latest_records = pd.concat([train_set, validation_set]).drop_duplicates(subset=['shop_id', 'item_id'], keep='last')\n",
    "X_test = test.merge(latest_records, on=['shop_id', 'item_id'], how='left').drop('ID', axis=1)"
   ]
  },
  {
   "cell_type": "code",
   "execution_count": 62,
   "id": "5a6790aa",
   "metadata": {},
   "outputs": [],
   "source": [
    "X_test = X_test.drop(['item_cnt_month', 'date_block_num'], axis=1)"
   ]
  },
  {
   "cell_type": "code",
   "execution_count": 64,
   "id": "c7b3709d",
   "metadata": {},
   "outputs": [],
   "source": [
    "sets = [X_train, X_validation, X_test]\n",
    "\n",
    "for dataset in sets:\n",
    "    for shop_id in dataset['shop_id'].unique():\n",
    "        for column in dataset.columns:\n",
    "            shop_median = dataset[(dataset['shop_id'] == shop_id)][column].median()\n",
    "            dataset.loc[(dataset[column].isnull()) & (dataset['shop_id'] == shop_id), column] = shop_median"
   ]
  },
  {
   "cell_type": "code",
   "execution_count": 66,
   "id": "984710ca",
   "metadata": {},
   "outputs": [],
   "source": [
    "X_test['year'] = 2015\n",
    "X_test['month'] = 11\n",
    "\n",
    "X_train.drop(['item_category_id'], axis=1, inplace=True)\n",
    "X_validation.drop(['item_category_id'], axis=1, inplace=True)\n",
    "X_test.drop(['item_category_id'], axis=1, inplace=True)"
   ]
  },
  {
   "cell_type": "code",
   "execution_count": 68,
   "id": "98813094",
   "metadata": {},
   "outputs": [],
   "source": [
    "import lightgbm as lgb"
   ]
  },
  {
   "cell_type": "code",
   "execution_count": 69,
   "id": "d1b15a5a",
   "metadata": {},
   "outputs": [
    {
     "name": "stdout",
     "output_type": "stream",
     "text": [
      "[LightGBM] [Warning] Auto-choosing row-wise multi-threading, the overhead of testing was 0.128789 seconds.\n",
      "You can set `force_row_wise=true` to remove the overhead.\n",
      "And if memory is not enough, you can set `force_col_wise=true`.\n",
      "[LightGBM] [Info] Total Bins 2944\n",
      "[LightGBM] [Info] Number of data points in the train set: 5276791, number of used features: 24\n",
      "[LightGBM] [Info] Start training from score 0.156223\n",
      "Training until validation scores don't improve for 100 rounds\n",
      "[200]\ttraining's rmse: 0.637131\tvalid_1's rmse: 0.698453\n",
      "[400]\ttraining's rmse: 0.62026\tvalid_1's rmse: 0.692179\n",
      "[600]\ttraining's rmse: 0.612202\tvalid_1's rmse: 0.691327\n",
      "[800]\ttraining's rmse: 0.607222\tvalid_1's rmse: 0.691094\n",
      "Early stopping, best iteration is:\n",
      "[820]\ttraining's rmse: 0.606713\tvalid_1's rmse: 0.691053\n"
     ]
    }
   ],
   "source": [
    "train_data = lgb.Dataset(data=X_train, label=Y_train)\n",
    "valid_data = lgb.Dataset(data=X_validation, label=Y_validation)\n",
    "    \n",
    "params = {\"objective\" : \"regression\", \"metric\" : \"rmse\", 'num_rounds':3000, 'early_stopping_rounds':100,\n",
    "              \"num_leaves\" : 50, \"learning_rate\" : 0.01, \"bagging_fraction\" : 0.9, 'max_depth': 10, \n",
    "              \"feature_fraction\" : 0.3, \"bagging_seed\" : 0}\n",
    "    \n",
    "lgb_model = lgb.train(params, train_data, valid_sets=[train_data, valid_data], verbose_eval=200) "
   ]
  },
  {
   "cell_type": "code",
   "execution_count": null,
   "id": "77d2669e",
   "metadata": {},
   "outputs": [],
   "source": []
  }
 ],
 "metadata": {
  "kernelspec": {
   "display_name": "Python 3",
   "language": "python",
   "name": "python3"
  },
  "language_info": {
   "codemirror_mode": {
    "name": "ipython",
    "version": 3
   },
   "file_extension": ".py",
   "mimetype": "text/x-python",
   "name": "python",
   "nbconvert_exporter": "python",
   "pygments_lexer": "ipython3",
   "version": "3.8.2"
  }
 },
 "nbformat": 4,
 "nbformat_minor": 5
}
